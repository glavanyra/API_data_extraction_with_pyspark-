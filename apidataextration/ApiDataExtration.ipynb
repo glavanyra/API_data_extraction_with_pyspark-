{
 "cells": [
  {
   "cell_type": "code",
   "execution_count": 1,
   "metadata": {},
   "outputs": [
    {
     "name": "stderr",
     "output_type": "stream",
     "text": [
      "C:\\Users\\gladys37305\\Documents\\Software\\Spark\\spark-3.4.3-bin-hadoop3\\python\\pyspark\\context.py:317: FutureWarning: Python 3.7 support is deprecated in Spark 3.4.\n",
      "  warnings.warn(\"Python 3.7 support is deprecated in Spark 3.4.\", FutureWarning)\n"
     ]
    }
   ],
   "source": [
    "from pyspark.sql import SparkSession\n",
    "\n",
    "# Criar uma sessão Spark\n",
    "spark = SparkSession.builder\\\n",
    "    .appName(\"ApiDataExtration\")\\\n",
    "        .getOrCreate()"
   ]
  },
  {
   "cell_type": "code",
   "execution_count": 4,
   "metadata": {},
   "outputs": [],
   "source": [
    "import requests\n",
    "import json\n",
    "from pyspark.sql.types import StructType, StructField, IntegerType, StringType\n",
    "\n",
    "# URL da API\n",
    "url = 'https://jsonplaceholder.typicode.com/posts'\n",
    "\n",
    "# Extrair os dados da API usando a biblioteca requests\n",
    "try: \n",
    "    response = requests.get(url)\n",
    "    response.raise_for_status()\n",
    "    data = response.json() # Retorna uma lista de dicionarios\n",
    "\n",
    "except requests.exceptions.RequestException as e:\n",
    "    print(f'Erro ao acessar a API: {e}')\n",
    "    data = []"
   ]
  },
  {
   "cell_type": "code",
   "execution_count": 6,
   "metadata": {},
   "outputs": [
    {
     "name": "stdout",
     "output_type": "stream",
     "text": [
      "root\n",
      " |-- userId: integer (nullable = true)\n",
      " |-- id: integer (nullable = true)\n",
      " |-- title: string (nullable = true)\n",
      " |-- body: string (nullable = true)\n",
      "\n"
     ]
    }
   ],
   "source": [
    "# Inferir o schema para o Dataframe\n",
    "# Definir o schema manualmente para garantir consistência\n",
    "schema = StructType([\n",
    "    StructField(\"userId\", IntegerType(), True), \n",
    "    StructField(\"id\", IntegerType(), True), \n",
    "    StructField(\"title\", StringType(), True),\n",
    "    StructField(\"body\", StringType(), True)\n",
    "])\n",
    "\n",
    "# Criar um Dataframe a partir da lista de dicionarios (dados da API)\n",
    "\n",
    "df = spark.createDataFrame(data, schema=schema)\n",
    "\n",
    "df.printSchema()"
   ]
  },
  {
   "cell_type": "code",
   "execution_count": null,
   "metadata": {},
   "outputs": [],
   "source": []
  }
 ],
 "metadata": {
  "kernelspec": {
   "display_name": "Python 3",
   "language": "python",
   "name": "python3"
  },
  "language_info": {
   "codemirror_mode": {
    "name": "ipython",
    "version": 3
   },
   "file_extension": ".py",
   "mimetype": "text/x-python",
   "name": "python",
   "nbconvert_exporter": "python",
   "pygments_lexer": "ipython3",
   "version": "3.6.15"
  },
  "orig_nbformat": 4,
  "vscode": {
   "interpreter": {
    "hash": "412f7b464c2c0a8e97f64625405845f4d093ef9f700f0ada4639af2c0a9d1629"
   }
  }
 },
 "nbformat": 4,
 "nbformat_minor": 2
}
