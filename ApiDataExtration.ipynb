{
 "cells": [
  {
   "cell_type": "code",
   "execution_count": null,
   "metadata": {},
   "outputs": [
    {
     "name": "stderr",
     "output_type": "stream",
     "text": [
      "WARNING: Using incubator modules: jdk.incubator.vector\n",
      "Using Spark's default log4j profile: org/apache/spark/log4j2-defaults.properties\n",
      "25/08/09 16:49:21 WARN Utils: Your hostname, ysla, resolves to a loopback address: 127.0.1.1; using 192.168.15.141 instead (on interface wlo1)\n",
      "25/08/09 16:49:21 WARN Utils: Set SPARK_LOCAL_IP if you need to bind to another address\n",
      "Using Spark's default log4j profile: org/apache/spark/log4j2-defaults.properties\n",
      "Setting default log level to \"WARN\".\n",
      "To adjust logging level use sc.setLogLevel(newLevel). For SparkR, use setLogLevel(newLevel).\n",
      "25/08/09 16:49:23 WARN NativeCodeLoader: Unable to load native-hadoop library for your platform... using builtin-java classes where applicable\n"
     ]
    }
   ],
   "source": [
    "from pyspark.sql import SparkSession\n",
    "\n",
    "# Criar uma sessão Spark\n",
    "spark = SparkSession.builder\\\n",
    "    .appName(\"ApiDataExtraction\")\\\n",
    "    .config(\"spark.master\", \"local[*]\")\\\n",
    "        .getOrCreate()"
   ]
  },
  {
   "cell_type": "code",
   "execution_count": 5,
   "metadata": {},
   "outputs": [
    {
     "name": "stdout",
     "output_type": "stream",
     "text": [
      "Collecting sodapy\n",
      "  Using cached sodapy-2.2.0-py2.py3-none-any.whl.metadata (15 kB)\n",
      "Collecting requests>=2.28.1 (from sodapy)\n",
      "  Using cached requests-2.32.4-py3-none-any.whl.metadata (4.9 kB)\n",
      "Collecting charset_normalizer<4,>=2 (from requests>=2.28.1->sodapy)\n",
      "  Downloading charset_normalizer-3.4.3-cp313-cp313-manylinux2014_x86_64.manylinux_2_17_x86_64.manylinux_2_28_x86_64.whl.metadata (36 kB)\n",
      "Collecting idna<4,>=2.5 (from requests>=2.28.1->sodapy)\n",
      "  Using cached idna-3.10-py3-none-any.whl.metadata (10 kB)\n",
      "Collecting urllib3<3,>=1.21.1 (from requests>=2.28.1->sodapy)\n",
      "  Using cached urllib3-2.5.0-py3-none-any.whl.metadata (6.5 kB)\n",
      "Collecting certifi>=2017.4.17 (from requests>=2.28.1->sodapy)\n",
      "  Downloading certifi-2025.8.3-py3-none-any.whl.metadata (2.4 kB)\n",
      "Using cached sodapy-2.2.0-py2.py3-none-any.whl (15 kB)\n",
      "Using cached requests-2.32.4-py3-none-any.whl (64 kB)\n",
      "Downloading charset_normalizer-3.4.3-cp313-cp313-manylinux2014_x86_64.manylinux_2_17_x86_64.manylinux_2_28_x86_64.whl (151 kB)\n",
      "Using cached idna-3.10-py3-none-any.whl (70 kB)\n",
      "Using cached urllib3-2.5.0-py3-none-any.whl (129 kB)\n",
      "Downloading certifi-2025.8.3-py3-none-any.whl (161 kB)\n",
      "Installing collected packages: urllib3, idna, charset_normalizer, certifi, requests, sodapy\n",
      "\u001b[2K   \u001b[90m━━━━━━━━━━━━━━━━━━━━━━━━━━━━━━━━━━━━━━━━\u001b[0m \u001b[32m6/6\u001b[0m [sodapy]2m2/6\u001b[0m [charset_normalizer]\n",
      "\u001b[1A\u001b[2KSuccessfully installed certifi-2025.8.3 charset_normalizer-3.4.3 idna-3.10 requests-2.32.4 sodapy-2.2.0 urllib3-2.5.0\n",
      "\n",
      "\u001b[1m[\u001b[0m\u001b[34;49mnotice\u001b[0m\u001b[1;39;49m]\u001b[0m\u001b[39;49m A new release of pip is available: \u001b[0m\u001b[31;49m25.1.1\u001b[0m\u001b[39;49m -> \u001b[0m\u001b[32;49m25.2\u001b[0m\n",
      "\u001b[1m[\u001b[0m\u001b[34;49mnotice\u001b[0m\u001b[1;39;49m]\u001b[0m\u001b[39;49m To update, run: \u001b[0m\u001b[32;49mpip install --upgrade pip\u001b[0m\n"
     ]
    }
   ],
   "source": [
    "!pip install sodapy"
   ]
  },
  {
   "cell_type": "code",
   "execution_count": 6,
   "metadata": {},
   "outputs": [
    {
     "name": "stderr",
     "output_type": "stream",
     "text": [
      "WARNING:root:Requests made without an app_token will be subject to strict throttling limits.\n"
     ]
    }
   ],
   "source": [
    "from sodapy import Socrata\n",
    "\n",
    "# URL da API\n",
    "url = 'https://data.cityofchicago.org/api/v3/views/85ca-t3if/query.json'\n",
    "\n",
    "client = Socrata(\"data.cityofchicago.org\", None)\n",
    "results = client.get(\"85ca-t3if\", limit=100000)\n"
   ]
  },
  {
   "cell_type": "code",
   "execution_count": 7,
   "metadata": {},
   "outputs": [
    {
     "data": {
      "text/plain": [
       "{'crash_record_id': '01592f02a8ea88406703e6c88b244e37d7163905ae1a76420eaa4ecd71ca4f2333d52de953f73555f250691b38b0e9e67e924d2a19480e13a375af34beb80e60',\n",
       " 'crash_date_est_i': 'Y',\n",
       " 'crash_date': '2025-08-09T01:30:00.000',\n",
       " 'posted_speed_limit': '30',\n",
       " 'traffic_control_device': 'NO CONTROLS',\n",
       " 'device_condition': 'NO CONTROLS',\n",
       " 'weather_condition': 'CLEAR',\n",
       " 'lighting_condition': 'DARKNESS, LIGHTED ROAD',\n",
       " 'first_crash_type': 'PARKED MOTOR VEHICLE',\n",
       " 'trafficway_type': 'ONE-WAY',\n",
       " 'alignment': 'STRAIGHT AND LEVEL',\n",
       " 'roadway_surface_cond': 'DRY',\n",
       " 'road_defect': 'NO DEFECTS',\n",
       " 'report_type': 'NOT ON SCENE (DESK REPORT)',\n",
       " 'crash_type': 'NO INJURY / DRIVE AWAY',\n",
       " 'hit_and_run_i': 'Y',\n",
       " 'damage': 'OVER $1,500',\n",
       " 'date_police_notified': '2025-08-09T01:50:00.000',\n",
       " 'prim_contributory_cause': 'UNABLE TO DETERMINE',\n",
       " 'sec_contributory_cause': 'NOT APPLICABLE',\n",
       " 'street_no': '4820',\n",
       " 'street_direction': 'W',\n",
       " 'street_name': 'RACE AVE',\n",
       " 'beat_of_occurrence': '1532',\n",
       " 'num_units': '2',\n",
       " 'most_severe_injury': 'NO INDICATION OF INJURY',\n",
       " 'injuries_total': '0',\n",
       " 'injuries_fatal': '0',\n",
       " 'injuries_incapacitating': '0',\n",
       " 'injuries_non_incapacitating': '0',\n",
       " 'injuries_reported_not_evident': '0',\n",
       " 'injuries_no_indication': '1',\n",
       " 'injuries_unknown': '0',\n",
       " 'crash_hour': '1',\n",
       " 'crash_day_of_week': '7',\n",
       " 'crash_month': '8',\n",
       " 'latitude': '41.8905769617',\n",
       " 'longitude': '-87.7466359905',\n",
       " 'location': {'type': 'Point',\n",
       "  'coordinates': [-87.746635990515, 41.89057696174]},\n",
       " ':@computed_region_rpca_8um6': '32'}"
      ]
     },
     "execution_count": 7,
     "metadata": {},
     "output_type": "execute_result"
    }
   ],
   "source": [
    "results[0]"
   ]
  },
  {
   "cell_type": "code",
   "execution_count": 8,
   "metadata": {},
   "outputs": [
    {
     "name": "stdout",
     "output_type": "stream",
     "text": [
      "root\n",
      " |-- crash_record_id: string (nullable = true)\n",
      " |-- crash_date: string (nullable = true)\n",
      " |-- posted_speed_limit: string (nullable = true)\n",
      " |-- traffic_control_device: string (nullable = true)\n",
      " |-- device_condition: string (nullable = true)\n",
      " |-- weather_condition: string (nullable = true)\n",
      " |-- lighting_condition: string (nullable = true)\n",
      " |-- first_crash_type: string (nullable = true)\n",
      " |-- trafficway_type: string (nullable = true)\n",
      " |-- alignment: string (nullable = true)\n",
      " |-- roadway_surface_cond: string (nullable = true)\n",
      " |-- road_defect: string (nullable = true)\n",
      " |-- report_type: string (nullable = true)\n",
      " |-- crash_type: string (nullable = true)\n",
      " |-- hit_and_run_i: string (nullable = true)\n",
      " |-- damage: string (nullable = true)\n",
      " |-- date_police_notified: string (nullable = true)\n",
      " |-- prim_contributory_cause: string (nullable = true)\n",
      " |-- sec_contributory_cause: string (nullable = true)\n",
      " |-- street_no: string (nullable = true)\n",
      " |-- street_direction: string (nullable = true)\n",
      " |-- street_name: string (nullable = true)\n",
      " |-- beat_of_occurrence: string (nullable = true)\n",
      " |-- num_units: string (nullable = true)\n",
      " |-- most_severe_injury: string (nullable = true)\n",
      " |-- injuries_total: string (nullable = true)\n",
      " |-- injuries_fatal: string (nullable = true)\n",
      " |-- injuries_incapacitating: string (nullable = true)\n",
      " |-- injuries_non_incapacitating: string (nullable = true)\n",
      " |-- injuries_reported_not_evident: string (nullable = true)\n",
      " |-- injuries_no_indication: string (nullable = true)\n",
      " |-- injuries_unknown: string (nullable = true)\n",
      " |-- crash_hour: string (nullable = true)\n",
      " |-- crash_day_of_week: string (nullable = true)\n",
      " |-- crash_month: string (nullable = true)\n",
      " |-- latitude: string (nullable = true)\n",
      " |-- longitude: string (nullable = true)\n",
      " |-- location: struct (nullable = true)\n",
      " |    |-- type: string (nullable = true)\n",
      " |    |-- coordinates: array (nullable = true)\n",
      " |    |    |-- element: string (containsNull = true)\n",
      " |-- :@computed_region_rpca_8um6: string (nullable = true)\n",
      "\n"
     ]
    }
   ],
   "source": [
    "from pyspark.sql.types import ArrayType, StructType, StructField, DoubleType, IntegerType, StringType, TimestampType\n",
    "\n",
    "# Inferir o schema para o Dataframe\n",
    "# Definir o schema manualmente para garantir consistência\n",
    "schema = StructType([\n",
    "    StructField(\"crash_record_id\", StringType(), True), \n",
    "    StructField(\"crash_date\", StringType(), True), \n",
    "    StructField(\"posted_speed_limit\", StringType(), True),\n",
    "    StructField(\"traffic_control_device\", StringType(), True),\n",
    "    StructField(\"device_condition\", StringType(), True),\n",
    "    StructField(\"weather_condition\", StringType(), True),\n",
    "    StructField(\"lighting_condition\", StringType(), True), \n",
    "    StructField(\"first_crash_type\", StringType(), True),\n",
    "    StructField(\"trafficway_type\", StringType(), True),\n",
    "    StructField(\"alignment\", StringType(), True),\n",
    "    StructField(\"roadway_surface_cond\", StringType(), True),\n",
    "    StructField(\"road_defect\", StringType(), True),\n",
    "    StructField(\"report_type\", StringType(), True),\n",
    "    StructField(\"crash_type\", StringType(), True),\n",
    "    StructField(\"hit_and_run_i\", StringType(), True),\n",
    "    StructField(\"damage\", StringType(), True), \n",
    "    StructField(\"date_police_notified\", StringType(), True),\n",
    "    StructField(\"prim_contributory_cause\", StringType(), True),\n",
    "    StructField(\"sec_contributory_cause\", StringType(), True),\n",
    "    StructField(\"street_no\", StringType(), True),\n",
    "    StructField(\"street_direction\", StringType(), True),\n",
    "    StructField(\"street_name\", StringType(), True),\n",
    "    StructField(\"beat_of_occurrence\", StringType(), True),\n",
    "    StructField(\"num_units\", StringType(), True),\n",
    "    StructField(\"most_severe_injury\", StringType(), True),\n",
    "    StructField(\"injuries_total\", StringType(), True),\n",
    "    StructField(\"injuries_fatal\", StringType(), True),\n",
    "    StructField(\"injuries_incapacitating\", StringType(), True),\n",
    "    StructField(\"injuries_non_incapacitating\", StringType(), True),\n",
    "    StructField(\"injuries_reported_not_evident\", StringType(), True),\n",
    "    StructField(\"injuries_no_indication\", StringType(), True),\n",
    "    StructField(\"injuries_unknown\", StringType(), True),\n",
    "    StructField(\"crash_hour\", StringType(), True),\n",
    "    StructField(\"crash_day_of_week\", StringType(), True),\n",
    "    StructField(\"crash_month\", StringType(), True),\n",
    "    StructField(\"latitude\", StringType(), True),\n",
    "    StructField(\"longitude\", StringType(), True),\n",
    "    StructField(\"location\", StructType([\n",
    "        StructField(\"type\", StringType(), True),\n",
    "        StructField(\"coordinates\", ArrayType(StringType()), True)\n",
    "    ]), True),\n",
    "    StructField(\":@computed_region_rpca_8um6\", StringType(), True)\n",
    "])\n",
    "\n",
    "# Criar um Dataframe a partir da lista de dicionarios (dados da API)\n",
    "\n",
    "df = spark.createDataFrame(results, schema=schema)\n",
    "\n",
    "df.printSchema()"
   ]
  },
  {
   "cell_type": "code",
   "execution_count": 9,
   "metadata": {},
   "outputs": [
    {
     "name": "stderr",
     "output_type": "stream",
     "text": [
      "25/08/09 16:52:20 WARN SparkStringUtils: Truncated the string representation of a plan since it was too large. This behavior can be adjusted by setting 'spark.sql.debug.maxToStringFields'.\n",
      "25/08/09 16:52:22 WARN TaskSetManager: Stage 0 contains a task of very large size (13915 KiB). The maximum recommended task size is 1000 KiB.\n",
      "Exception ignored in: <_io.BufferedWriter name=5>                   (0 + 1) / 1]\n",
      "Traceback (most recent call last):\n",
      "  File \"/opt/spark/python/lib/pyspark.zip/pyspark/daemon.py\", line 200, in manager\n",
      "BrokenPipeError: [Errno 32] Broken pipe\n",
      "                                                                                \r"
     ]
    },
    {
     "name": "stdout",
     "output_type": "stream",
     "text": [
      "-RECORD 0---------------------------------------------------------------------------------------------------------------------------------------------------------\n",
      " crash_record_id               | 01592f02a8ea88406703e6c88b244e37d7163905ae1a76420eaa4ecd71ca4f2333d52de953f73555f250691b38b0e9e67e924d2a19480e13a375af34beb80e60 \n",
      " crash_date                    | 2025-08-09T01:30:00.000                                                                                                          \n",
      " posted_speed_limit            | 30                                                                                                                               \n",
      " traffic_control_device        | NO CONTROLS                                                                                                                      \n",
      " device_condition              | NO CONTROLS                                                                                                                      \n",
      " weather_condition             | CLEAR                                                                                                                            \n",
      " lighting_condition            | DARKNESS, LIGHTED ROAD                                                                                                           \n",
      " first_crash_type              | PARKED MOTOR VEHICLE                                                                                                             \n",
      " trafficway_type               | ONE-WAY                                                                                                                          \n",
      " alignment                     | STRAIGHT AND LEVEL                                                                                                               \n",
      " roadway_surface_cond          | DRY                                                                                                                              \n",
      " road_defect                   | NO DEFECTS                                                                                                                       \n",
      " report_type                   | NOT ON SCENE (DESK REPORT)                                                                                                       \n",
      " crash_type                    | NO INJURY / DRIVE AWAY                                                                                                           \n",
      " hit_and_run_i                 | Y                                                                                                                                \n",
      " damage                        | OVER $1,500                                                                                                                      \n",
      " date_police_notified          | 2025-08-09T01:50:00.000                                                                                                          \n",
      " prim_contributory_cause       | UNABLE TO DETERMINE                                                                                                              \n",
      " sec_contributory_cause        | NOT APPLICABLE                                                                                                                   \n",
      " street_no                     | 4820                                                                                                                             \n",
      " street_direction              | W                                                                                                                                \n",
      " street_name                   | RACE AVE                                                                                                                         \n",
      " beat_of_occurrence            | 1532                                                                                                                             \n",
      " num_units                     | 2                                                                                                                                \n",
      " most_severe_injury            | NO INDICATION OF INJURY                                                                                                          \n",
      " injuries_total                | 0                                                                                                                                \n",
      " injuries_fatal                | 0                                                                                                                                \n",
      " injuries_incapacitating       | 0                                                                                                                                \n",
      " injuries_non_incapacitating   | 0                                                                                                                                \n",
      " injuries_reported_not_evident | 0                                                                                                                                \n",
      " injuries_no_indication        | 1                                                                                                                                \n",
      " injuries_unknown              | 0                                                                                                                                \n",
      " crash_hour                    | 1                                                                                                                                \n",
      " crash_day_of_week             | 7                                                                                                                                \n",
      " crash_month                   | 8                                                                                                                                \n",
      " latitude                      | 41.8905769617                                                                                                                    \n",
      " longitude                     | -87.7466359905                                                                                                                   \n",
      " location                      | {Point, [-87.746635990515, 41.89057696174]}                                                                                      \n",
      " :@computed_region_rpca_8um6   | 32                                                                                                                               \n",
      "only showing top 1 row\n"
     ]
    }
   ],
   "source": [
    "df.show(truncate=False, vertical=True, n=1)"
   ]
  },
  {
   "cell_type": "code",
   "execution_count": 10,
   "metadata": {},
   "outputs": [
    {
     "name": "stderr",
     "output_type": "stream",
     "text": [
      "25/08/09 17:09:17 WARN TaskSetManager: Stage 1 contains a task of very large size (13915 KiB). The maximum recommended task size is 1000 KiB.\n",
      "                                                                                \r"
     ]
    }
   ],
   "source": [
    "df.write.mode(\"overwrite\").parquet(\"Traffic_Crashes\")"
   ]
  },
  {
   "cell_type": "code",
   "execution_count": null,
   "metadata": {},
   "outputs": [],
   "source": []
  }
 ],
 "metadata": {
  "kernelspec": {
   "display_name": "pyspark-env (3.13.5)",
   "language": "python",
   "name": "python3"
  },
  "language_info": {
   "codemirror_mode": {
    "name": "ipython",
    "version": 3
   },
   "file_extension": ".py",
   "mimetype": "text/x-python",
   "name": "python",
   "nbconvert_exporter": "python",
   "pygments_lexer": "ipython3",
   "version": "3.13.5"
  },
  "orig_nbformat": 4
 },
 "nbformat": 4,
 "nbformat_minor": 2
}
