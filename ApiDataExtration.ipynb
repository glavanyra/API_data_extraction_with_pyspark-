{
 "cells": [
  {
   "cell_type": "code",
   "execution_count": 1,
   "metadata": {},
   "outputs": [
    {
     "name": "stderr",
     "output_type": "stream",
     "text": [
      "C:\\Users\\gladys37305\\Documents\\Software\\Spark\\spark-3.4.3-bin-hadoop3\\python\\pyspark\\context.py:317: FutureWarning: Python 3.7 support is deprecated in Spark 3.4.\n",
      "  warnings.warn(\"Python 3.7 support is deprecated in Spark 3.4.\", FutureWarning)\n"
     ]
    }
   ],
   "source": [
    "from pyspark.sql import SparkSession\n",
    "\n",
    "# Criar uma sessão Spark\n",
    "spark = SparkSession.builder\\\n",
    "    .appName(\"ApiDataExtration\")\\\n",
    "    .config(\"spark.master\", \"local[*]\")\\\n",
    "        .getOrCreate()"
   ]
  },
  {
   "cell_type": "code",
   "execution_count": 7,
   "metadata": {},
   "outputs": [
    {
     "name": "stderr",
     "output_type": "stream",
     "text": [
      "WARNING:root:Requests made without an app_token will be subject to strict throttling limits.\n"
     ]
    }
   ],
   "source": [
    "from sodapy import Socrata\n",
    "\n",
    "# URL da API\n",
    "url = 'https://data.cityofchicago.org/api/v3/views/85ca-t3if/query.json'\n",
    "\n",
    "client = Socrata(\"data.cityofchicago.org\", None)\n",
    "results = client.get(\"85ca-t3if\", limit=100000)\n"
   ]
  },
  {
   "cell_type": "code",
   "execution_count": 5,
   "metadata": {},
   "outputs": [
    {
     "data": {
      "text/plain": [
       "{'crash_record_id': '8874ac8edcf59711dc4af0148a1f70fff8a287eb0698128dba8e60c5864087db020e970280012d9d2ce3556e2890ab2e8c7a7a1f00bfa6ea6b953c0e4164b6d1',\n",
       " 'crash_date': '2025-08-07T00:00:00.000',\n",
       " 'posted_speed_limit': '30',\n",
       " 'traffic_control_device': 'NO CONTROLS',\n",
       " 'device_condition': 'OTHER',\n",
       " 'weather_condition': 'CLEAR',\n",
       " 'lighting_condition': 'DARKNESS',\n",
       " 'first_crash_type': 'PARKED MOTOR VEHICLE',\n",
       " 'trafficway_type': 'NOT DIVIDED',\n",
       " 'alignment': 'STRAIGHT AND LEVEL',\n",
       " 'roadway_surface_cond': 'DRY',\n",
       " 'road_defect': 'NO DEFECTS',\n",
       " 'report_type': 'ON SCENE',\n",
       " 'crash_type': 'INJURY AND / OR TOW DUE TO CRASH',\n",
       " 'hit_and_run_i': 'Y',\n",
       " 'damage': 'OVER $1,500',\n",
       " 'date_police_notified': '2025-08-07T00:22:00.000',\n",
       " 'prim_contributory_cause': 'IMPROPER OVERTAKING/PASSING',\n",
       " 'sec_contributory_cause': 'IMPROPER LANE USAGE',\n",
       " 'street_no': '5234',\n",
       " 'street_direction': 'W',\n",
       " 'street_name': 'MONTROSE AVE',\n",
       " 'beat_of_occurrence': '1623',\n",
       " 'num_units': '3',\n",
       " 'most_severe_injury': 'NO INDICATION OF INJURY',\n",
       " 'injuries_total': '0',\n",
       " 'injuries_fatal': '0',\n",
       " 'injuries_incapacitating': '0',\n",
       " 'injuries_non_incapacitating': '0',\n",
       " 'injuries_reported_not_evident': '0',\n",
       " 'injuries_no_indication': '1',\n",
       " 'injuries_unknown': '0',\n",
       " 'crash_hour': '0',\n",
       " 'crash_day_of_week': '5',\n",
       " 'crash_month': '8',\n",
       " 'latitude': '41.9606932086',\n",
       " 'longitude': '-87.7588126791',\n",
       " 'location': {'type': 'Point',\n",
       "  'coordinates': [-87.758812679064, 41.960693208582]},\n",
       " ':@computed_region_rpca_8um6': '48'}"
      ]
     },
     "execution_count": 5,
     "metadata": {},
     "output_type": "execute_result"
    }
   ],
   "source": [
    "results[0]"
   ]
  },
  {
   "cell_type": "code",
   "execution_count": null,
   "metadata": {},
   "outputs": [],
   "source": [
    "from pyspark.sql.types import ArrayType, StructType, StructField, DoubleType, IntegerType, StringType, TimestampType\n",
    "\n",
    "# Inferir o schema para o Dataframe\n",
    "# Definir o schema manualmente para garantir consistência\n",
    "schema = StructType([\n",
    "    StructField(\"crash_record_id\", StringType(), True), \n",
    "    StructField(\"crash_date\", StringType(), True), \n",
    "    StructField(\"posted_speed_limit\", StringType(), True),\n",
    "    StructField(\"traffic_control_device\", StringType(), True),\n",
    "    StructField(\"device_condition\", StringType(), True),\n",
    "    StructField(\"weather_condition\", StringType(), True),\n",
    "    StructField(\"lighting_condition\", StringType(), True), \n",
    "    StructField(\"first_crash_type\", StringType(), True),\n",
    "    StructField(\"trafficway_type\", StringType(), True),\n",
    "    StructField(\"alignment\", StringType(), True),\n",
    "    StructField(\"roadway_surface_cond\", StringType(), True),\n",
    "    StructField(\"road_defect\", StringType(), True),\n",
    "    StructField(\"report_type\", StringType(), True),\n",
    "    StructField(\"crash_type\", StringType(), True),\n",
    "    StructField(\"hit_and_run_i\", StringType(), True),\n",
    "    StructField(\"damage\", StringType(), True), \n",
    "    StructField(\"date_police_notified\", StringType(), True),\n",
    "    StructField(\"prim_contributory_cause\", StringType(), True),\n",
    "    StructField(\"sec_contributory_cause\", StringType(), True),\n",
    "    StructField(\"street_no\", StringType(), True),\n",
    "    StructField(\"street_direction\", StringType(), True),\n",
    "    StructField(\"street_name\", StringType(), True),\n",
    "    StructField(\"beat_of_occurrence\", IntegerType(), True),\n",
    "    StructField(\"num_units\", IntegerType(), True),\n",
    "    StructField(\"most_severe_injury\", StringType(), True),\n",
    "    StructField(\"injuries_total\", IntegerType(), True),\n",
    "    StructField(\"injuries_fatal\", IntegerType(), True),\n",
    "    StructField(\"injuries_incapacitating\", IntegerType(), True),\n",
    "    StructField(\"injuries_non_incapacitating\", IntegerType(), True),\n",
    "    StructField(\"injuries_reported_not_evident\", IntegerType(), True),\n",
    "    StructField(\"injuries_no_indication\", IntegerType(), True),\n",
    "    StructField(\"injuries_unknown\", IntegerType(), True),\n",
    "    StructField(\"crash_hour\", StringType(), True),\n",
    "    StructField(\"crash_day_of_week\", StringType(), True),\n",
    "    StructField(\"crash_month\", StringType(), True),\n",
    "    StructField(\"latitude\", DoubleType(), True),\n",
    "    StructField(\"longitude\", DoubleType(), True),\n",
    "    StructField(\"location\", StructType([\n",
    "        StructField(\"type\", StringType(), True),\n",
    "        StructField(\"coordinates\", ArrayType(DoubleType()), True)\n",
    "    ]), True),\n",
    "    StructField(\":@computed_region_rpca_8um6\", StringType(), True)\n",
    "])\n",
    "\n",
    "# Criar um Dataframe a partir da lista de dicionarios (dados da API)\n",
    "\n",
    "df = spark.createDataFrame(results, schema=schema)\n",
    "\n",
    "df.printSchema()"
   ]
  },
  {
   "cell_type": "code",
   "execution_count": null,
   "metadata": {},
   "outputs": [],
   "source": []
  }
 ],
 "metadata": {
  "kernelspec": {
   "display_name": "Python 3",
   "language": "python",
   "name": "python3"
  },
  "language_info": {
   "codemirror_mode": {
    "name": "ipython",
    "version": 3
   },
   "file_extension": ".py",
   "mimetype": "text/x-python",
   "name": "python",
   "nbconvert_exporter": "python",
   "pygments_lexer": "ipython3",
   "version": "3.6.15"
  },
  "orig_nbformat": 4,
  "vscode": {
   "interpreter": {
    "hash": "412f7b464c2c0a8e97f64625405845f4d093ef9f700f0ada4639af2c0a9d1629"
   }
  }
 },
 "nbformat": 4,
 "nbformat_minor": 2
}
